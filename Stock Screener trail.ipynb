{
  "nbformat": 4,
  "nbformat_minor": 0,
  "metadata": {
    "colab": {
      "name": "Welcome To Colaboratory",
      "provenance": [],
      "collapsed_sections": [],
      "include_colab_link": true
    },
    "kernelspec": {
      "display_name": "Python 3",
      "name": "python3"
    }
  },
  "cells": [
    {
      "cell_type": "markdown",
      "metadata": {
        "id": "view-in-github",
        "colab_type": "text"
      },
      "source": [
        "<a href=\"https://colab.research.google.com/github/satishchaudhary382/RFM/blob/master/Stock%20Screener%20trail.ipynb\" target=\"_parent\"><img src=\"https://colab.research.google.com/assets/colab-badge.svg\" alt=\"Open In Colab\"/></a>"
      ]
    },
    {
      "cell_type": "code",
      "metadata": {
        "id": "zK9b3YU6dazh"
      },
      "source": [
        "# !pip install selenium\n",
        "# !apt-get update \n",
        "# !apt install chromium-chromedriver\n",
        "import time\n",
        "import pandas as pd\n",
        "import numpy as np \n",
        "\n",
        "\n",
        "from selenium import webdriver\n"
      ],
      "execution_count": 111,
      "outputs": []
    },
    {
      "cell_type": "code",
      "metadata": {
        "id": "MXZg0cL0dgcO"
      },
      "source": [
        "stocks = ['nbl','kbl','pcbl','mbl','nabil','sbi','nica','hbl','ccbl']\n",
        "n = 4"
      ],
      "execution_count": 112,
      "outputs": []
    },
    {
      "cell_type": "code",
      "metadata": {
        "id": "Bo5laTQbda1K",
        "outputId": "927a216a-c677-4685-ac42-a81cbcb86d30",
        "colab": {
          "base_uri": "https://localhost:8080/",
          "height": 1000
        }
      },
      "source": [
        "for stock in stocks:\n",
        "  chrome_options = webdriver.ChromeOptions()\n",
        "  chrome_options.add_argument('--headless')\n",
        "  chrome_options.add_argument('--no-sandbox')\n",
        "  chrome_options.add_argument('--disable-dev-shm-usage')\n",
        "  wd = webdriver.Chrome('chromedriver',chrome_options=chrome_options)\n",
        "  driver =webdriver.Chrome('chromedriver',chrome_options=chrome_options)\n",
        "  url = f\"https://www.sharesansar.com/company/{stock}\"\n",
        "  time.sleep(2)\n",
        "  driver.get(url)\n",
        "  time.sleep(2)\n",
        "\n",
        "  l = driver.find_elements_by_class_name(\"pill-item\")\n",
        "  l[7].click()\n",
        "  time.sleep(2)\n",
        "\n",
        "  data = []\n",
        "\n",
        "  for i in range(1,n):\n",
        "    if i <7:\n",
        "      \n",
        "      t = driver.find_elements_by_id(\"companyprofilepricehistory_data\")\n",
        "      text = t[0].text.split('\\n')\n",
        "\n",
        "      print(f\"Scraping Page {i} of {stock}\")\n",
        "      time.sleep(2)\n",
        "\n",
        "      for j in range(1,31):\n",
        "        data.append(text[j].split(\" \"))\n",
        "\n",
        "      l = driver.find_elements_by_xpath(\"//div[@id='companyprofilepricehistory_data']/ul[1]/li[13]/a[1]\")[0]\n",
        "      l.click()\n",
        "      time.sleep(5)\n",
        "\n",
        "    elif i >=7:\n",
        "      \n",
        "      t = driver.find_elements_by_id(\"companyprofilepricehistory_data\")\n",
        "      text = t[0].text.split('\\n')\n",
        "\n",
        "      print(f\"Scraping Page {i}\")\n",
        "      for j in range(1,30):\n",
        "        data.append(text[j].split(\" \"))\n",
        "\n",
        "      l = driver.find_elements_by_xpath(\"//div[@id='companyprofilepricehistory_data']/ul[1]/li[15]/a[1]\")[0]\n",
        "      l.click()\n",
        "      time.sleep(5)\n",
        "\n",
        "  driver.quit()\n",
        "  time.sleep(5)\n",
        "\n",
        "  df = pd.DataFrame(data, columns = ['S.No', 'Date', 'Open', 'High', 'Low', 'LTP', '% Change', 'Qty', 'Turnover'])\n",
        "  q = lambda x: int(x.replace(\",\",\"\"))\n",
        "  df['Qty'] = df.Qty.apply(q)\n",
        "  df['Turnover'] = df.Turnover.apply(q)\n",
        "  df[['Open','High','Low','LTP','% Change','Qty','Turnover']]= df[['Open','High','Low','LTP','% Change','Qty','Turnover']].apply(pd.to_numeric)\n",
        "  df['Date'] = df['Date'].apply(pd.to_datetime)\n",
        "  df.set_index(\"Date\", inplace = True)\n",
        "  df.sort_values(by=['Date'], inplace=True, ascending=True)\n",
        "  df.to_csv(f\"{stock}.csv\")\n",
        "  time.sleep(2)\n",
        "\n",
        "\n"
      ],
      "execution_count": 113,
      "outputs": [
        {
          "output_type": "stream",
          "text": [
            "/usr/local/lib/python3.6/dist-packages/ipykernel_launcher.py:6: DeprecationWarning: use options instead of chrome_options\n",
            "  \n",
            "/usr/local/lib/python3.6/dist-packages/ipykernel_launcher.py:7: DeprecationWarning: use options instead of chrome_options\n",
            "  import sys\n"
          ],
          "name": "stderr"
        },
        {
          "output_type": "stream",
          "text": [
            "Scraping Page 1 of nbl\n",
            "Scraping Page 2 of nbl\n",
            "Scraping Page 3 of nbl\n"
          ],
          "name": "stdout"
        },
        {
          "output_type": "stream",
          "text": [
            "/usr/local/lib/python3.6/dist-packages/ipykernel_launcher.py:6: DeprecationWarning: use options instead of chrome_options\n",
            "  \n",
            "/usr/local/lib/python3.6/dist-packages/ipykernel_launcher.py:7: DeprecationWarning: use options instead of chrome_options\n",
            "  import sys\n"
          ],
          "name": "stderr"
        },
        {
          "output_type": "stream",
          "text": [
            "Scraping Page 1 of kbl\n",
            "Scraping Page 2 of kbl\n",
            "Scraping Page 3 of kbl\n"
          ],
          "name": "stdout"
        },
        {
          "output_type": "stream",
          "text": [
            "/usr/local/lib/python3.6/dist-packages/ipykernel_launcher.py:6: DeprecationWarning: use options instead of chrome_options\n",
            "  \n",
            "/usr/local/lib/python3.6/dist-packages/ipykernel_launcher.py:7: DeprecationWarning: use options instead of chrome_options\n",
            "  import sys\n"
          ],
          "name": "stderr"
        },
        {
          "output_type": "stream",
          "text": [
            "Scraping Page 1 of pcbl\n",
            "Scraping Page 2 of pcbl\n",
            "Scraping Page 3 of pcbl\n"
          ],
          "name": "stdout"
        },
        {
          "output_type": "stream",
          "text": [
            "/usr/local/lib/python3.6/dist-packages/ipykernel_launcher.py:6: DeprecationWarning: use options instead of chrome_options\n",
            "  \n",
            "/usr/local/lib/python3.6/dist-packages/ipykernel_launcher.py:7: DeprecationWarning: use options instead of chrome_options\n",
            "  import sys\n"
          ],
          "name": "stderr"
        },
        {
          "output_type": "stream",
          "text": [
            "Scraping Page 1 of mbl\n",
            "Scraping Page 2 of mbl\n",
            "Scraping Page 3 of mbl\n"
          ],
          "name": "stdout"
        },
        {
          "output_type": "stream",
          "text": [
            "/usr/local/lib/python3.6/dist-packages/ipykernel_launcher.py:6: DeprecationWarning: use options instead of chrome_options\n",
            "  \n",
            "/usr/local/lib/python3.6/dist-packages/ipykernel_launcher.py:7: DeprecationWarning: use options instead of chrome_options\n",
            "  import sys\n"
          ],
          "name": "stderr"
        },
        {
          "output_type": "stream",
          "text": [
            "Scraping Page 1 of nabil\n",
            "Scraping Page 2 of nabil\n",
            "Scraping Page 3 of nabil\n"
          ],
          "name": "stdout"
        },
        {
          "output_type": "stream",
          "text": [
            "/usr/local/lib/python3.6/dist-packages/ipykernel_launcher.py:6: DeprecationWarning: use options instead of chrome_options\n",
            "  \n",
            "/usr/local/lib/python3.6/dist-packages/ipykernel_launcher.py:7: DeprecationWarning: use options instead of chrome_options\n",
            "  import sys\n"
          ],
          "name": "stderr"
        },
        {
          "output_type": "stream",
          "text": [
            "Scraping Page 1 of sbi\n",
            "Scraping Page 2 of sbi\n",
            "Scraping Page 3 of sbi\n"
          ],
          "name": "stdout"
        },
        {
          "output_type": "stream",
          "text": [
            "/usr/local/lib/python3.6/dist-packages/ipykernel_launcher.py:6: DeprecationWarning: use options instead of chrome_options\n",
            "  \n",
            "/usr/local/lib/python3.6/dist-packages/ipykernel_launcher.py:7: DeprecationWarning: use options instead of chrome_options\n",
            "  import sys\n"
          ],
          "name": "stderr"
        },
        {
          "output_type": "stream",
          "text": [
            "Scraping Page 1 of nica\n",
            "Scraping Page 2 of nica\n",
            "Scraping Page 3 of nica\n"
          ],
          "name": "stdout"
        },
        {
          "output_type": "stream",
          "text": [
            "/usr/local/lib/python3.6/dist-packages/ipykernel_launcher.py:6: DeprecationWarning: use options instead of chrome_options\n",
            "  \n",
            "/usr/local/lib/python3.6/dist-packages/ipykernel_launcher.py:7: DeprecationWarning: use options instead of chrome_options\n",
            "  import sys\n"
          ],
          "name": "stderr"
        },
        {
          "output_type": "stream",
          "text": [
            "Scraping Page 1 of hbl\n",
            "Scraping Page 2 of hbl\n",
            "Scraping Page 3 of hbl\n"
          ],
          "name": "stdout"
        },
        {
          "output_type": "stream",
          "text": [
            "/usr/local/lib/python3.6/dist-packages/ipykernel_launcher.py:6: DeprecationWarning: use options instead of chrome_options\n",
            "  \n",
            "/usr/local/lib/python3.6/dist-packages/ipykernel_launcher.py:7: DeprecationWarning: use options instead of chrome_options\n",
            "  import sys\n"
          ],
          "name": "stderr"
        },
        {
          "output_type": "stream",
          "text": [
            "Scraping Page 1 of ccbl\n",
            "Scraping Page 2 of ccbl\n",
            "Scraping Page 3 of ccbl\n"
          ],
          "name": "stdout"
        }
      ]
    },
    {
      "cell_type": "code",
      "metadata": {
        "id": "I0ih04Zzda-r"
      },
      "source": [
        "def Hanning(size):\n",
        "    w = np.hanning(size+2)\n",
        "    w = np.array(w[1:-1])  # remove zeros at endpoints\n",
        "    return (w / max(w))\n",
        "\n",
        "def wma(fs, size, pad=True, winType=Hanning, wts=None):\n",
        "    \"\"\"Apply a weighted moving average on the supplied series.\n",
        "    Parameters\n",
        "    ----------\n",
        "    s : pandas.Series\n",
        "        data to be averaged\n",
        "    size : integer\n",
        "        how wide a window to use\n",
        "    pad : Boolean (optional, default = True)\n",
        "        flag determining whether to pad beginning and end of data with a\n",
        "        weighted average of the last `size` points. This provides better\n",
        "        smoothing at the beginning and end of the line, but it tends to have\n",
        "        zero slope.\n",
        "    winType : Function (optional, default = Hanning)\n",
        "        Window function that takes an integer (window size) and returns a list\n",
        "        of weights to be applied to the data. The default is Hanning, a\n",
        "        weighted cosine with non-zero endpoints. Other possible windows are:\n",
        "        * np.bartlett (triangular with endpoints of 0)\n",
        "        * np.blackman (3 cosines creating taper)\n",
        "        * np.hamming (weighted cosine)\n",
        "        * np.hanning (weighted cosine with endpoints of 0)\n",
        "        * Triangle (triangle with non-zero enpoints, and option to\n",
        "                    clip top of triangle)\n",
        "    wts : list (optional, default = None)\n",
        "        List of weights to use. `size` becomes the length of wts. Use this\n",
        "        option to provide a custom weighting function. The length of wts\n",
        "        should be odd, but this is not enforced.\n",
        "    Returns\n",
        "    -------\n",
        "    Pandas Series containing smoothed data\n",
        "    Notes\n",
        "    -----\n",
        "    Defaults to using a Hanning window for weights, centered on\n",
        "    each point. For points near the beginning or end of data, special\n",
        "    processing is required that isn't in built-in functions.\n",
        "    Any rows with no value (nan) are dropped from series, and that reduced\n",
        "    series is returned. This series will have fewer members than what was\n",
        "    given, and may cause problems with mismatched indexes.\n",
        "    \"\"\"\n",
        "    def SetLimits(i, hw):\n",
        "        # i: current data location where window is centred\n",
        "        # hw: half window width\n",
        "        ds = max(0, (i-hw))         # data start\n",
        "        de = min(n-1, (i+hw)) # data end\n",
        "        ws = hw - (i - ds)          # window start\n",
        "        we = hw + (de - i)          # window end\n",
        "        return ds, de, ws, we\n",
        "\n",
        "    s = fs.dropna()\n",
        "    if type(wts) == type(None):\n",
        "        size += (size+1) % 2  # make odd\n",
        "        window = winType(size)\n",
        "        window /= window.sum()  # normalize window\n",
        "    else:\n",
        "        window = wts / wts.sum()\n",
        "        size = len(wts)\n",
        "    n = len(s)\n",
        "    hw = int(size / 2) # half window width\n",
        "    # convolve has boundary effects when there is no overlap with the window\n",
        "    # Begining and end of 'a' must be adjusted to compensate.\n",
        "    # np.average() effectively scales the weights for the different sizes.\n",
        "    if pad: # pad the data with reflected values\n",
        "        # create padded beginning\n",
        "        y = np.zeros(n+2*hw)\n",
        "        for i in range(hw):\n",
        "            y[i] = s.iloc[hw-i]\n",
        "        for i in range(hw):\n",
        "            y[i+n+hw] = s.iloc[n-i-1]\n",
        "        for i in range(n):\n",
        "            y[i+hw] = s.iloc[i]\n",
        "        yc = np.convolve(y, window, mode='same')\n",
        "        a = pd.Series(yc[hw:n+hw],\n",
        "                      index=s.index,\n",
        "                      name=s.name)\n",
        "    else: # clip window as available data decreases\n",
        "        a = pd.Series(np.convolve(s, window, mode='same'),\n",
        "                      index=s.index,\n",
        "                      name=s.name)\n",
        "        for i in range(hw+1):  # fix the start\n",
        "            (ds, de, ws, we) = SetLimits(i, hw)\n",
        "            a.iloc[i] = np.average(s.iloc[ds:de], weights=window[ws:we])\n",
        "        for i in range(n-hw-1, n):  # fix the end\n",
        "            (ds, de, ws, we) = SetLimits(i, hw)\n",
        "            a.iloc[i] = np.average(s.iloc[ds:de], weights=window[ws:we])\n",
        "    return a"
      ],
      "execution_count": 128,
      "outputs": []
    },
    {
      "cell_type": "code",
      "metadata": {
        "id": "DWxGBH7Lda5j",
        "outputId": "0add3f56-a04e-4306-9dee-a45b647e08b7",
        "colab": {
          "base_uri": "https://localhost:8080/",
          "height": 835
        }
      },
      "source": [
        "for stock in stocks:\n",
        "  df = pd.read_csv(f\"/content/{stock}.csv\")\n",
        "  df['WMA1'] = wma(df.LTP,30)\n",
        "  df['WMA2'] = wma(df.LTP.shift(2),30)\n",
        "  a = df['WMA1'][-7:].values\n",
        "  b = df['WMA2'][-7:].values\n",
        "  for i in range(len(a)):\n",
        "    if (df['WMA1'][i]) >( df['WMA2'][i]):\n",
        "      print(f\"Potential Stock to buy is {stock}\")"
      ],
      "execution_count": 141,
      "outputs": [
        {
          "output_type": "stream",
          "text": [
            "Potential Stock to buy is nbl\n",
            "Potential Stock to buy is nbl\n",
            "Potential Stock to buy is nbl\n",
            "Potential Stock to buy is nbl\n",
            "Potential Stock to buy is nbl\n",
            "Potential Stock to buy is kbl\n",
            "Potential Stock to buy is kbl\n",
            "Potential Stock to buy is kbl\n",
            "Potential Stock to buy is kbl\n",
            "Potential Stock to buy is kbl\n",
            "Potential Stock to buy is pcbl\n",
            "Potential Stock to buy is pcbl\n",
            "Potential Stock to buy is pcbl\n",
            "Potential Stock to buy is pcbl\n",
            "Potential Stock to buy is pcbl\n",
            "Potential Stock to buy is mbl\n",
            "Potential Stock to buy is mbl\n",
            "Potential Stock to buy is mbl\n",
            "Potential Stock to buy is mbl\n",
            "Potential Stock to buy is mbl\n",
            "Potential Stock to buy is nabil\n",
            "Potential Stock to buy is nabil\n",
            "Potential Stock to buy is nabil\n",
            "Potential Stock to buy is nabil\n",
            "Potential Stock to buy is nabil\n",
            "Potential Stock to buy is sbi\n",
            "Potential Stock to buy is sbi\n",
            "Potential Stock to buy is sbi\n",
            "Potential Stock to buy is sbi\n",
            "Potential Stock to buy is sbi\n",
            "Potential Stock to buy is nica\n",
            "Potential Stock to buy is nica\n",
            "Potential Stock to buy is nica\n",
            "Potential Stock to buy is nica\n",
            "Potential Stock to buy is nica\n",
            "Potential Stock to buy is hbl\n",
            "Potential Stock to buy is hbl\n",
            "Potential Stock to buy is hbl\n",
            "Potential Stock to buy is hbl\n",
            "Potential Stock to buy is hbl\n",
            "Potential Stock to buy is ccbl\n",
            "Potential Stock to buy is ccbl\n",
            "Potential Stock to buy is ccbl\n",
            "Potential Stock to buy is ccbl\n",
            "Potential Stock to buy is ccbl\n"
          ],
          "name": "stdout"
        }
      ]
    },
    {
      "cell_type": "code",
      "metadata": {
        "id": "et9foSRzmFww"
      },
      "source": [
        "df = pd.read_csv(\"/content/nbl.csv\")\n",
        "df['WMA1'] = wma(df.LTP,30)\n",
        "df['WMA2'] = wma(df.LTP.shift(1),30)"
      ],
      "execution_count": 168,
      "outputs": []
    },
    {
      "cell_type": "code",
      "metadata": {
        "id": "BaWXepDFmoak",
        "outputId": "304f7060-0c51-4cea-aba0-8ce8b2818a89",
        "colab": {
          "base_uri": "https://localhost:8080/",
          "height": 590
        }
      },
      "source": [
        "df['WMA1'].plot(figsize = (20,10))\n",
        "df['WMA2'].plot()\n",
        "df['LTP'].plot()"
      ],
      "execution_count": 169,
      "outputs": [
        {
          "output_type": "execute_result",
          "data": {
            "text/plain": [
              "<matplotlib.axes._subplots.AxesSubplot at 0x7f3284554f28>"
            ]
          },
          "metadata": {
            "tags": []
          },
          "execution_count": 169
        },
        {
          "output_type": "display_data",
          "data": {
            "image/png": "[encoded data removed]",
            "text/plain": [
              "<Figure size 1440x720 with 1 Axes>"
            ]
          },
          "metadata": {
            "tags": [],
            "needs_background": "light"
          }
        }
      ]
    },
    {
      "cell_type": "code",
      "metadata": {
        "id": "2lLS4XD_mt3_",
        "outputId": "6e88cc0a-c4d5-4c8a-de76-fb716a304d53",
        "colab": {
          "base_uri": "https://localhost:8080/",
          "height": 35
        }
      },
      "source": [
        "df['DIff'] = df['WMA1'] - df['WMA2']\n",
        "df[(df['WMA1'] - df['WMA2'])>0]['DIff'].mean()"
      ],
      "execution_count": 170,
      "outputs": [
        {
          "output_type": "execute_result",
          "data": {
            "text/plain": [
              "1.2732581098665667"
            ]
          },
          "metadata": {
            "tags": []
          },
          "execution_count": 170
        }
      ]
    },
    {
      "cell_type": "code",
      "metadata": {
        "id": "RdsKtULQnFiL",
        "outputId": "e6088f83-a045-4d67-c5b7-6fb9dc983bce",
        "colab": {
          "base_uri": "https://localhost:8080/",
          "height": 594
        }
      },
      "source": [
        "(df['WMA1'] - df['WMA2']).plot(kind = 'bar', figsize = (20,10))\n",
        "plt.hlines(df[(df['WMA1'] - df['WMA2'])>0]['DIff'].mean(), df.index.min(), df.index.max())\n",
        "plt.hlines(df[(df['WMA1'] - df['WMA2'])<0]['DIff'].mean(), df.index.min(), df.index.max())"
      ],
      "execution_count": 171,
      "outputs": [
        {
          "output_type": "execute_result",
          "data": {
            "text/plain": [
              "<matplotlib.collections.LineCollection at 0x7f3277845320>"
            ]
          },
          "metadata": {
            "tags": []
          },
          "execution_count": 171
        },
        {
          "output_type": "display_data",
          "data": {
            "image/png": "[encoded data removed]",
            "text/plain": [
              "<Figure size 1440x720 with 1 Axes>"
            ]
          },
          "metadata": {
            "tags": [],
            "needs_background": "light"
          }
        }
      ]
    },
    {
      "cell_type": "code",
      "metadata": {
        "id": "6dzKEcOGnqcq"
      },
      "source": [
        ""
      ],
      "execution_count": null,
      "outputs": []
    }
  ]
}