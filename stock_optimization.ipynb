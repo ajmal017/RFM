{
  "nbformat": 4,
  "nbformat_minor": 0,
  "metadata": {
    "colab": {
      "name": "Welcome To Colaboratory",
      "provenance": [],
      "collapsed_sections": [],
      "include_colab_link": true
    },
    "kernelspec": {
      "display_name": "Python 3",
      "name": "python3"
    }
  },
  "cells": [
    {
      "cell_type": "markdown",
      "metadata": {
        "id": "view-in-github",
        "colab_type": "text"
      },
      "source": [
        "<a href=\"https://colab.research.google.com/github/satishchaudhary382/RFM/blob/master/stock_optimization.ipynb\" target=\"_parent\"><img src=\"https://colab.research.google.com/assets/colab-badge.svg\" alt=\"Open In Colab\"/></a>"
      ]
    },
    {
      "cell_type": "code",
      "metadata": {
        "id": "W49reBennAzR",
        "colab_type": "code",
        "colab": {}
      },
      "source": [
        "import pandas as pd\n",
        "import numpy as np\n",
        "from datetime import datetime\n",
        "import matplotlib.pyplot as plt"
      ],
      "execution_count": 0,
      "outputs": []
    },
    {
      "cell_type": "code",
      "metadata": {
        "id": "zAYRgh-vnA01",
        "colab_type": "code",
        "colab": {}
      },
      "source": [
        "# Get the stock values \n",
        "#EBL, HBL, SHIV, NABIL\n",
        "stocks = ['ebl','hbl','nabil','shiv']\n",
        "for stock in stocks:\n",
        "  exec(f\"df_{stock} = stocks\")"
      ],
      "execution_count": 0,
      "outputs": []
    },
    {
      "cell_type": "code",
      "metadata": {
        "id": "gOZufr3mnA6g",
        "colab_type": "code",
        "colab": {}
      },
      "source": [
        "ebl = pd.read_excel(\"/content/stock.xlsx\",sheet_name = 'ebl',names = ['Date','ebl_open','ebl_high','ebl_low','ebl_close','ebl_vloume'])\n",
        "hbl = pd.read_excel(\"/content/stock.xlsx\",sheet_name = 'hbl',names = ['Date','hbl_open','hbl_high','hbl_low','hbl_close','hbl_vloume'])\n",
        "nabil = pd.read_excel(\"/content/stock.xlsx\",sheet_name = 'nabil',names = ['Date','nabil_open','nabil_high','nabil_low','nabil_close','nabil_vloume'])\n",
        "shiv = pd.read_excel(\"/content/stock.xlsx\",sheet_name = 'shiv',names = ['Date','shiv_open','shiv_high','shiv_low','shiv_close','shiv_vloume'])"
      ],
      "execution_count": 0,
      "outputs": []
    },
    {
      "cell_type": "code",
      "metadata": {
        "id": "eeLP0GCanA_d",
        "colab_type": "code",
        "colab": {}
      },
      "source": [
        "weights = np.array([0.2,0.2,0.2,0.2])"
      ],
      "execution_count": 0,
      "outputs": []
    },
    {
      "cell_type": "code",
      "metadata": {
        "id": "08s5xk6LnBGj",
        "colab_type": "code",
        "colab": {}
      },
      "source": [
        "from functools import reduce\n",
        "data_frames = [ebl,hbl,nabil,shiv]\n",
        "df_merged = reduce(lambda  left,right: pd.merge(left,right,on=['Date'],\n",
        "                                            how='outer'), data_frames).fillna('void')"
      ],
      "execution_count": 0,
      "outputs": []
    },
    {
      "cell_type": "code",
      "metadata": {
        "id": "Zon1LlrFnBD2",
        "colab_type": "code",
        "colab": {}
      },
      "source": [
        "stock = df_merged[['Date','ebl_close','hbl_close','nabil_close','shiv_close']]\n",
        "stock.set_index(\"Date\", inplace = True)\n",
        "stock.plot(figsize = (15,10))\n",
        "plt.grid(True)"
      ],
      "execution_count": 0,
      "outputs": []
    },
    {
      "cell_type": "code",
      "metadata": {
        "id": "wsqvJcJenA-R",
        "colab_type": "code",
        "colab": {}
      },
      "source": [
        "returns = stock.pct_change()\n",
        "returns"
      ],
      "execution_count": 0,
      "outputs": []
    },
    {
      "cell_type": "code",
      "metadata": {
        "id": "J-dmPycfnA4u",
        "colab_type": "code",
        "colab": {}
      },
      "source": [
        "returns = stock.pct_change()\n",
        "returns"
      ],
      "execution_count": 0,
      "outputs": []
    },
    {
      "cell_type": "code",
      "metadata": {
        "id": "ZE8RTibDnct-",
        "colab_type": "code",
        "colab": {}
      },
      "source": [
        "# calculate portfolio variance\n",
        "port_variance = np.dot(weights.T,np.dot(cov_matrix_annual,weights))\n",
        "port_variance"
      ],
      "execution_count": 0,
      "outputs": []
    },
    {
      "cell_type": "code",
      "metadata": {
        "id": "oiHkCgpwncxP",
        "colab_type": "code",
        "colab": {}
      },
      "source": [
        "# calculate portfolio volitality aka standard deviation\n",
        "port_volatility = np.sqrt(port_variance)\n",
        "port_volatility"
      ],
      "execution_count": 0,
      "outputs": []
    },
    {
      "cell_type": "code",
      "metadata": {
        "id": "Hk_Xfs4qnc1I",
        "colab_type": "code",
        "colab": {}
      },
      "source": [
        "# calculate annual portfolio return \n",
        "portfolioSimpleAnnualReturn =np.sum(returns.mean()*weights)*245\n",
        "portfolioSimpleAnnualReturn"
      ],
      "execution_count": 0,
      "outputs": []
    },
    {
      "cell_type": "code",
      "metadata": {
        "id": "0e0wInn1ncv6",
        "colab_type": "code",
        "colab": {}
      },
      "source": [
        "# show expected annual return, volatility (risk)\n",
        "\n",
        "percent_var = str(round(port_variance,2)*100)+\"%\"\n",
        "percent_vol = str(round(port_volatility,2)*100)+\"%\"\n",
        "percent_ret = str(round(portfolioSimpleAnnualReturn,2)*100)+\"%\"\n",
        "\n",
        "print(\"Expected annual return: \", percent_ret)\n",
        "print(\"Annual volatility/risk: \",percent_vol)\n",
        "print(\"Annual variance: \", percent_var)"
      ],
      "execution_count": 0,
      "outputs": []
    },
    {
      "cell_type": "code",
      "metadata": {
        "id": "CfTMlOM5nmcB",
        "colab_type": "code",
        "colab": {}
      },
      "source": [
        "from pypfopt.efficient_frontier import EfficientFrontier\n",
        "from pypfopt import risk_models\n",
        "from pypfopt import expected_returns"
      ],
      "execution_count": 0,
      "outputs": []
    },
    {
      "cell_type": "code",
      "metadata": {
        "id": "2Re_k2r7nmgM",
        "colab_type": "code",
        "colab": {}
      },
      "source": [
        "# Porfolio Optimization\n",
        "\n",
        "# calculate expected returns and annualized sample covariance matrix of asset returns\n",
        "\n",
        "mu = expected_returns.mean_historical_return(stock)\n",
        "S = risk_models.sample_cov(stock)\n",
        "\n",
        "# optimize for max sharpe ratio\n",
        "ef = EfficientFrontier(mu, S)\n",
        "weights = ef.max_sharpe()\n",
        "cleaned_weights  =ef.clean_weights()\n",
        "print(cleaned_weights)\n",
        "ef.portfolio_performance(verbose = True)"
      ],
      "execution_count": 0,
      "outputs": []
    },
    {
      "cell_type": "code",
      "metadata": {
        "id": "eHlWU6W_nmao",
        "colab_type": "code",
        "colab": {}
      },
      "source": [
        "# Get discrete allocation of each share per stock \n",
        "from pypfopt.discrete_allocation import DiscreteAllocation, get_latest_prices\n",
        "latest_prices = get_latest_prices(stock)\n",
        "weights = cleaned_weights\n",
        "da = DiscreteAllocation(weights, latest_prices, total_portfolio_value = 30000)\n",
        "allocation, leftover = da.lp_portfolio()"
      ],
      "execution_count": 0,
      "outputs": []
    },
    {
      "cell_type": "code",
      "metadata": {
        "id": "jwqVi0_DncsF",
        "colab_type": "code",
        "colab": {}
      },
      "source": [
        "print(\"Discrete allocation:\", allocation)\n",
        "print(\"Funds remaining: Rs {:.2f}\".format(leftover))"
      ],
      "execution_count": 0,
      "outputs": []
    }
  ]
}