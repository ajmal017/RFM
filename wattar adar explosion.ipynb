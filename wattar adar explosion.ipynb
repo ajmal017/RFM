{
  "nbformat": 4,
  "nbformat_minor": 0,
  "metadata": {
    "colab": {
      "name": "Welcome To Colaboratory",
      "provenance": [],
      "collapsed_sections": [],
      "include_colab_link": true
    },
    "kernelspec": {
      "display_name": "Python 3",
      "name": "python3"
    }
  },
  "cells": [
    {
      "cell_type": "markdown",
      "metadata": {
        "id": "view-in-github",
        "colab_type": "text"
      },
      "source": [
        "<a href=\"https://colab.research.google.com/github/satishchaudhary382/RFM/blob/master/wattar%20adar%20explosion.ipynb\" target=\"_parent\"><img src=\"https://colab.research.google.com/assets/colab-badge.svg\" alt=\"Open In Colab\"/></a>"
      ]
    },
    {
      "cell_type": "code",
      "metadata": {
        "id": "52HuOIcLLv2G",
        "colab_type": "code",
        "colab": {}
      },
      "source": [
        "import pandas as pd\n",
        "import numpy as np \n",
        "import pandas_datareader as pdr\n",
        "import matplotlib.pyplot as plt"
      ],
      "execution_count": null,
      "outputs": []
    },
    {
      "cell_type": "code",
      "metadata": {
        "id": "_wge-b9zLv3W",
        "colab_type": "code",
        "colab": {}
      },
      "source": [
        "df = pdr.get_data_yahoo(\"COST\",\"1/1/2018\",\"1/1/2019\")"
      ],
      "execution_count": null,
      "outputs": []
    },
    {
      "cell_type": "code",
      "metadata": {
        "id": "h9aRHtoLLv9z",
        "colab_type": "code",
        "colab": {}
      },
      "source": [
        "def Hanning(size):\n",
        "    w = np.hanning(size+2)\n",
        "    w = np.array(w[1:-1])  # remove zeros at endpoints\n",
        "    return (w / max(w))\n",
        "\n",
        "def wma(fs, size, pad=True, winType=Hanning, wts=None):\n",
        "    \"\"\"Apply a weighted moving average on the supplied series.\n",
        "    Parameters\n",
        "    ----------\n",
        "    s : pandas.Series\n",
        "        data to be averaged\n",
        "    size : integer\n",
        "        how wide a window to use\n",
        "    pad : Boolean (optional, default = True)\n",
        "        flag determining whether to pad beginning and end of data with a\n",
        "        weighted average of the last `size` points. This provides better\n",
        "        smoothing at the beginning and end of the line, but it tends to have\n",
        "        zero slope.\n",
        "    winType : Function (optional, default = Hanning)\n",
        "        Window function that takes an integer (window size) and returns a list\n",
        "        of weights to be applied to the data. The default is Hanning, a\n",
        "        weighted cosine with non-zero endpoints. Other possible windows are:\n",
        "        * np.bartlett (triangular with endpoints of 0)\n",
        "        * np.blackman (3 cosines creating taper)\n",
        "        * np.hamming (weighted cosine)\n",
        "        * np.hanning (weighted cosine with endpoints of 0)\n",
        "        * Triangle (triangle with non-zero enpoints, and option to\n",
        "                    clip top of triangle)\n",
        "    wts : list (optional, default = None)\n",
        "        List of weights to use. `size` becomes the length of wts. Use this\n",
        "        option to provide a custom weighting function. The length of wts\n",
        "        should be odd, but this is not enforced.\n",
        "    Returns\n",
        "    -------\n",
        "    Pandas Series containing smoothed data\n",
        "    Notes\n",
        "    -----\n",
        "    Defaults to using a Hanning window for weights, centered on\n",
        "    each point. For points near the beginning or end of data, special\n",
        "    processing is required that isn't in built-in functions.\n",
        "    Any rows with no value (nan) are dropped from series, and that reduced\n",
        "    series is returned. This series will have fewer members than what was\n",
        "    given, and may cause problems with mismatched indexes.\n",
        "    \"\"\"\n",
        "    def SetLimits(i, hw):\n",
        "        # i: current data location where window is centred\n",
        "        # hw: half window width\n",
        "        ds = max(0, (i-hw))         # data start\n",
        "        de = min(n-1, (i+hw)) # data end\n",
        "        ws = hw - (i - ds)          # window start\n",
        "        we = hw + (de - i)          # window end\n",
        "        return ds, de, ws, we\n",
        "\n",
        "    s = fs.dropna()\n",
        "    if type(wts) == type(None):\n",
        "        size += (size+1) % 2  # make odd\n",
        "        window = winType(size)\n",
        "        window /= window.sum()  # normalize window\n",
        "    else:\n",
        "        window = wts / wts.sum()\n",
        "        size = len(wts)\n",
        "    n = len(s)\n",
        "    hw = int(size / 2) # half window width\n",
        "    # convolve has boundary effects when there is no overlap with the window\n",
        "    # Begining and end of 'a' must be adjusted to compensate.\n",
        "    # np.average() effectively scales the weights for the different sizes.\n",
        "    if pad: # pad the data with reflected values\n",
        "        # create padded beginning\n",
        "        y = np.zeros(n+2*hw)\n",
        "        for i in range(hw):\n",
        "            y[i] = s.iloc[hw-i]\n",
        "        for i in range(hw):\n",
        "            y[i+n+hw] = s.iloc[n-i-1]\n",
        "        for i in range(n):\n",
        "            y[i+hw] = s.iloc[i]\n",
        "        yc = np.convolve(y, window, mode='same')\n",
        "        a = pd.Series(yc[hw:n+hw],\n",
        "                      index=s.index,\n",
        "                      name=s.name)\n",
        "    else: # clip window as available data decreases\n",
        "        a = pd.Series(np.convolve(s, window, mode='same'),\n",
        "                      index=s.index,\n",
        "                      name=s.name)\n",
        "        for i in range(hw+1):  # fix the start\n",
        "            (ds, de, ws, we) = SetLimits(i, hw)\n",
        "            a.iloc[i] = np.average(s.iloc[ds:de], weights=window[ws:we])\n",
        "        for i in range(n-hw-1, n):  # fix the end\n",
        "            (ds, de, ws, we) = SetLimits(i, hw)\n",
        "            a.iloc[i] = np.average(s.iloc[ds:de], weights=window[ws:we])\n",
        "    return a"
      ],
      "execution_count": null,
      "outputs": []
    },
    {
      "cell_type": "code",
      "metadata": {
        "id": "eDgRDnflLv80",
        "colab_type": "code",
        "colab": {}
      },
      "source": [
        "def hma(df, n):\n",
        "    a = 2 * wma(df, n/2)\n",
        "    b = wma(df, n)\n",
        "    return wma(a-b, np.sqrt(n))\n",
        "# n = 25\n",
        "# df['n/2'] = 2 * wma(df.Close,n/25)\n",
        "# df['wma'] = wma(df.Close, n)\n",
        "# df['hma'] = wma(df.wma, np.sqrt(n))\n",
        "hma(df.Close,14).plot(figsize = (20,10))\n",
        "df.Close.plot()"
      ],
      "execution_count": null,
      "outputs": []
    },
    {
      "cell_type": "code",
      "metadata": {
        "id": "VkzHMjbbLv7V",
        "colab_type": "code",
        "colab": {}
      },
      "source": [
        "# study(\"Waddah Attar Explosion [LazyBear]\", shorttitle=\"WAE_LB\")\n",
        "# sensitivity = input(150, title=\"Sensitivity\")\n",
        "# fastLength=input(20, title=\"FastEMA Length\")\n",
        "# slowLength=input(40, title=\"SlowEMA Length\")\n",
        "# channelLength=input(20, title=\"BB Channel Length\")\n",
        "# mult=input(2.0, title=\"BB Stdev Multiplier\")\n",
        "# deadZone=input(20, title=\"No trade zone threshold\")\n",
        "sensitivity = 150\n",
        "fast_length = 20\n",
        "slow_length = 40\n",
        "channel_length = 20\n",
        "mult = 2\n",
        "deadzone = 20"
      ],
      "execution_count": null,
      "outputs": []
    },
    {
      "cell_type": "code",
      "metadata": {
        "id": "Kw-wb9PCL9kZ",
        "colab_type": "code",
        "colab": {}
      },
      "source": [
        "# calc_macd(source, fastLength, slowLength) =>\n",
        "# \tfastMA = ema(source, fastLength)\n",
        "# \tslowMA = ema(source, slowLength)\n",
        "# \tfastMA - slowMA\n",
        "\n",
        "# calc_BBUpper(source, length, mult) => \n",
        "# \tbasis = sma(source, length)\n",
        "# \tdev = mult * stdev(source, length)\n",
        "# \tbasis + dev\n",
        "\n",
        "# calc_BBLower(source, length, mult) => \n",
        "# \tbasis = sma(source, length)\n",
        "# \tdev = mult * stdev(source, length)\n",
        "# \tbasis - devc\n",
        "def cal_macd(df, fast_length, slow_length):\n",
        "    fastMA = hma(df.Close, fast_length)\n",
        "    slowMA = hma(df.Close, slow_length)\n",
        "    return fastMA - slowMA\n",
        "\n",
        "def BB(df, length, mult):\n",
        "    basis = df.Close.rolling(length).mean()\n",
        "    std = df.Close.rolling(length).std()\n",
        "    return basis + mult*std, basis - mult*std\n",
        "    "
      ],
      "execution_count": null,
      "outputs": []
    },
    {
      "cell_type": "code",
      "metadata": {
        "id": "6WY_I1XPL9r3",
        "colab_type": "code",
        "colab": {}
      },
      "source": [
        "# t1 = (calc_macd(close, fastLength, slowLength) - calc_macd(close[1], fastLength, slowLength))*sensitivity\n",
        "# t2 = (calc_macd(close[2], fastLength, slowLength) - calc_macd(close[3], fastLength, slowLength))*sensitivity\n",
        "\n",
        "# e1 = (calc_BBUpper(close, channelLength, mult) - calc_BBLower(close, channelLength, mult))\n",
        "# e2 = (calc_BBUpper(close[1], channelLength, mult) - calc_BBLower(close[1], channelLength, mult))\n",
        "\n",
        "t1 = cal_macd(df, fast_length, slow_length) - cal_macd(df.shift(1), fast_length, slow_length)\n",
        "t2 = cal_macd(df.shift(2), fast_length, slow_length) - cal_macd(df.shift(3),fast_length, slow_length)\n",
        "\n",
        "e1 = BB(df,channel_length, mult)[0] - BB(df, channel_length, mult)[1]\n",
        "e2 = BB(df.shift(1), channel_length, mult)[0] - BB(df.shift(1),channel_length, mult)[1]\n",
        "\n",
        "df['t1'] = t1\n",
        "df['t2'] = t2\n",
        "df['e1'] = e1\n",
        "df['e2'] = e2"
      ],
      "execution_count": null,
      "outputs": []
    },
    {
      "cell_type": "code",
      "metadata": {
        "id": "EAhACi3GL9pu",
        "colab_type": "code",
        "colab": {}
      },
      "source": [
        "def trendup(df):\n",
        "    if df.t1>=0:\n",
        "        return df.t1\n",
        "    else:\n",
        "        return 0\n",
        "def trendown(df):\n",
        "    if df.t1 < 0:\n",
        "        return (-1*df.t1)\n",
        "    else:\n",
        "        return 0\n",
        "    \n",
        "def Trend(df):\n",
        "    if df.t1>0:\n",
        "        return df.t1\n",
        "    else:\n",
        "        return (-1*df.t1)\n",
        "    \n",
        "df['Trend'] = df.apply(trend ,axis =1)\n",
        "df['Up'] = df.apply(trendup, axis =1)\n",
        "df['Down'] = df.apply(trendown,axis= 1)"
      ],
      "execution_count": null,
      "outputs": []
    },
    {
      "cell_type": "code",
      "metadata": {
        "id": "K3f6LAxNL9ja",
        "colab_type": "code",
        "colab": {}
      },
      "source": [
        "\n",
        "fig, ax = plt.subplots(1,figsize=(20,10), sharex = True)\n",
        "ax.plot(df.Close)\n",
        "ax.bar(df.index, df.Up*100, color = \"green\",alpha = 0.5, width = 3)\n",
        "ax.bar(df.index, df.Down*100, color = \"red\",alpha = 0.5, width = 3)\n",
        "# ax[1].plot(df.e1, color = \"black\")\n",
        "ax.grid()"
      ],
      "execution_count": null,
      "outputs": []
    },
    {
      "cell_type": "code",
      "metadata": {
        "id": "18LXaqoZLv5r",
        "colab_type": "code",
        "colab": {}
      },
      "source": [
        ""
      ],
      "execution_count": null,
      "outputs": []
    }
  ]
}