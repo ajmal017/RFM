{
  "nbformat": 4,
  "nbformat_minor": 0,
  "metadata": {
    "colab": {
      "name": "Welcome To Colaboratory",
      "provenance": [],
      "collapsed_sections": [],
      "include_colab_link": true
    },
    "kernelspec": {
      "display_name": "Python 3",
      "name": "python3"
    }
  },
  "cells": [
    {
      "cell_type": "markdown",
      "metadata": {
        "id": "view-in-github",
        "colab_type": "text"
      },
      "source": [
        "<a href=\"https://colab.research.google.com/github/satishchaudhary382/RFM/blob/master/Web%20scrape%20share%20shansar%20data.ipynb\" target=\"_parent\"><img src=\"https://colab.research.google.com/assets/colab-badge.svg\" alt=\"Open In Colab\"/></a>"
      ]
    },
    {
      "cell_type": "code",
      "metadata": {
        "id": "MwPESIq5DRCm",
        "colab_type": "code",
        "colab": {
          "base_uri": "https://localhost:8080/",
          "height": 90
        },
        "outputId": "0de553fd-3a3a-464e-c192-e44366d9417b"
      },
      "source": [
        "# !pip install selenium\n",
        "# !apt-get update \n",
        "# !apt install chromium-chromedriver\n",
        "\n",
        "from selenium import webdriver\n",
        "chrome_options = webdriver.ChromeOptions()\n",
        "chrome_options.add_argument('--headless')\n",
        "chrome_options.add_argument('--no-sandbox')\n",
        "chrome_options.add_argument('--disable-dev-shm-usage')\n",
        "wd = webdriver.Chrome('chromedriver',chrome_options=chrome_options)\n",
        "driver =webdriver.Chrome('chromedriver',chrome_options=chrome_options)"
      ],
      "execution_count": 1,
      "outputs": [
        {
          "output_type": "stream",
          "text": [
            "/usr/local/lib/python3.6/dist-packages/ipykernel_launcher.py:10: DeprecationWarning: use options instead of chrome_options\n",
            "  # Remove the CWD from sys.path while we load stuff.\n",
            "/usr/local/lib/python3.6/dist-packages/ipykernel_launcher.py:11: DeprecationWarning: use options instead of chrome_options\n",
            "  # This is added back by InteractiveShellApp.init_path()\n"
          ],
          "name": "stderr"
        }
      ]
    },
    {
      "cell_type": "code",
      "metadata": {
        "id": "oN7HB6LRD-Vu",
        "colab_type": "code",
        "colab": {}
      },
      "source": [
        "url = \"https://www.sharesansar.com/company/hdl\"\n",
        "driver.get(url)"
      ],
      "execution_count": 2,
      "outputs": []
    },
    {
      "cell_type": "code",
      "metadata": {
        "id": "IcT2VkowD-To",
        "colab_type": "code",
        "colab": {}
      },
      "source": [
        "import time\n",
        "l = driver.find_elements_by_class_name(\"pill-item\")\n",
        "l[7].click()\n"
      ],
      "execution_count": 3,
      "outputs": []
    },
    {
      "cell_type": "code",
      "metadata": {
        "id": "NooRNCGUDRD5",
        "colab_type": "code",
        "colab": {}
      },
      "source": [
        "t = driver.find_elements_by_id(\"companyprofilepricehistory_data\")\n",
        "text = t[0].text.split('\\n')\n"
      ],
      "execution_count": 4,
      "outputs": []
    },
    {
      "cell_type": "code",
      "metadata": {
        "id": "o6MI_MtpJCJf",
        "colab_type": "code",
        "colab": {}
      },
      "source": [
        "data = []\n",
        "for i in range(1,31):\n",
        "  data.append(text[i].split(\" \"))"
      ],
      "execution_count": 5,
      "outputs": []
    },
    {
      "cell_type": "code",
      "metadata": {
        "id": "OnrxIpSIDRHV",
        "colab_type": "code",
        "colab": {
          "base_uri": "https://localhost:8080/",
          "height": 948
        },
        "outputId": "61c1c0a9-837b-4c20-be2f-78f632fb32e0"
      },
      "source": [
        "import pandas as pd\n",
        "df = pd.DataFrame(data, columns = ['S.No', 'Date', 'Open', 'High', 'Low', 'LTP', '% Change', 'Qty', 'Turnover'])\n",
        "df"
      ],
      "execution_count": 6,
      "outputs": [
        {
          "output_type": "execute_result",
          "data": {
            "text/html": [
              "<div>\n",
              "<style scoped>\n",
              "    .dataframe tbody tr th:only-of-type {\n",
              "        vertical-align: middle;\n",
              "    }\n",
              "\n",
              "    .dataframe tbody tr th {\n",
              "        vertical-align: top;\n",
              "    }\n",
              "\n",
              "    .dataframe thead th {\n",
              "        text-align: right;\n",
              "    }\n",
              "</style>\n",
              "<table border=\"1\" class=\"dataframe\">\n",
              "  <thead>\n",
              "    <tr style=\"text-align: right;\">\n",
              "      <th></th>\n",
              "      <th>S.No</th>\n",
              "      <th>Date</th>\n",
              "      <th>Open</th>\n",
              "      <th>High</th>\n",
              "      <th>Low</th>\n",
              "      <th>LTP</th>\n",
              "      <th>% Change</th>\n",
              "      <th>Qty</th>\n",
              "      <th>Turnover</th>\n",
              "    </tr>\n",
              "  </thead>\n",
              "  <tbody>\n",
              "    <tr>\n",
              "      <th>0</th>\n",
              "      <td>1</td>\n",
              "      <td>2020-08-24</td>\n",
              "      <td>1704.00</td>\n",
              "      <td>1750.00</td>\n",
              "      <td>1704.00</td>\n",
              "      <td>1735.00</td>\n",
              "      <td>3.52</td>\n",
              "      <td>31,543</td>\n",
              "      <td>54,515,102</td>\n",
              "    </tr>\n",
              "    <tr>\n",
              "      <th>1</th>\n",
              "      <td>2</td>\n",
              "      <td>2020-08-23</td>\n",
              "      <td>1670.00</td>\n",
              "      <td>1688.00</td>\n",
              "      <td>1654.00</td>\n",
              "      <td>1676.00</td>\n",
              "      <td>1.45</td>\n",
              "      <td>9,661</td>\n",
              "      <td>16,156,265</td>\n",
              "    </tr>\n",
              "    <tr>\n",
              "      <th>2</th>\n",
              "      <td>3</td>\n",
              "      <td>2020-08-20</td>\n",
              "      <td>1637.00</td>\n",
              "      <td>1668.00</td>\n",
              "      <td>1637.00</td>\n",
              "      <td>1652.00</td>\n",
              "      <td>0.92</td>\n",
              "      <td>3,506</td>\n",
              "      <td>5,826,020</td>\n",
              "    </tr>\n",
              "    <tr>\n",
              "      <th>3</th>\n",
              "      <td>4</td>\n",
              "      <td>2020-08-19</td>\n",
              "      <td>1636.00</td>\n",
              "      <td>1664.00</td>\n",
              "      <td>1626.00</td>\n",
              "      <td>1637.00</td>\n",
              "      <td>-1.80</td>\n",
              "      <td>7,274</td>\n",
              "      <td>11,970,520</td>\n",
              "    </tr>\n",
              "    <tr>\n",
              "      <th>4</th>\n",
              "      <td>5</td>\n",
              "      <td>2020-08-18</td>\n",
              "      <td>1651.00</td>\n",
              "      <td>1679.00</td>\n",
              "      <td>1650.00</td>\n",
              "      <td>1667.00</td>\n",
              "      <td>0.42</td>\n",
              "      <td>4,675</td>\n",
              "      <td>7,774,480</td>\n",
              "    </tr>\n",
              "    <tr>\n",
              "      <th>5</th>\n",
              "      <td>6</td>\n",
              "      <td>2020-08-17</td>\n",
              "      <td>1648.00</td>\n",
              "      <td>1665.00</td>\n",
              "      <td>1634.00</td>\n",
              "      <td>1660.00</td>\n",
              "      <td>1.22</td>\n",
              "      <td>9,537</td>\n",
              "      <td>15,729,698</td>\n",
              "    </tr>\n",
              "    <tr>\n",
              "      <th>6</th>\n",
              "      <td>7</td>\n",
              "      <td>2020-08-16</td>\n",
              "      <td>1660.00</td>\n",
              "      <td>1665.00</td>\n",
              "      <td>1597.00</td>\n",
              "      <td>1640.00</td>\n",
              "      <td>-2.44</td>\n",
              "      <td>27,421</td>\n",
              "      <td>45,072,176</td>\n",
              "    </tr>\n",
              "    <tr>\n",
              "      <th>7</th>\n",
              "      <td>8</td>\n",
              "      <td>2020-08-13</td>\n",
              "      <td>1697.00</td>\n",
              "      <td>1699.00</td>\n",
              "      <td>1677.00</td>\n",
              "      <td>1681.00</td>\n",
              "      <td>-1.52</td>\n",
              "      <td>14,990</td>\n",
              "      <td>25,270,870</td>\n",
              "    </tr>\n",
              "    <tr>\n",
              "      <th>8</th>\n",
              "      <td>9</td>\n",
              "      <td>2020-08-12</td>\n",
              "      <td>1677.00</td>\n",
              "      <td>1708.00</td>\n",
              "      <td>1677.00</td>\n",
              "      <td>1707.00</td>\n",
              "      <td>0.41</td>\n",
              "      <td>14,839</td>\n",
              "      <td>25,215,104</td>\n",
              "    </tr>\n",
              "    <tr>\n",
              "      <th>9</th>\n",
              "      <td>10</td>\n",
              "      <td>2020-08-11</td>\n",
              "      <td>1750.00</td>\n",
              "      <td>1750.00</td>\n",
              "      <td>1690.00</td>\n",
              "      <td>1700.00</td>\n",
              "      <td>-1.05</td>\n",
              "      <td>23,615</td>\n",
              "      <td>40,283,452</td>\n",
              "    </tr>\n",
              "    <tr>\n",
              "      <th>10</th>\n",
              "      <td>11</td>\n",
              "      <td>2020-08-10</td>\n",
              "      <td>1690.00</td>\n",
              "      <td>1720.00</td>\n",
              "      <td>1670.00</td>\n",
              "      <td>1718.00</td>\n",
              "      <td>2.87</td>\n",
              "      <td>25,644</td>\n",
              "      <td>43,643,644</td>\n",
              "    </tr>\n",
              "    <tr>\n",
              "      <th>11</th>\n",
              "      <td>12</td>\n",
              "      <td>2020-08-09</td>\n",
              "      <td>1635.00</td>\n",
              "      <td>1670.00</td>\n",
              "      <td>1620.00</td>\n",
              "      <td>1670.00</td>\n",
              "      <td>1.58</td>\n",
              "      <td>10,092</td>\n",
              "      <td>16,597,121</td>\n",
              "    </tr>\n",
              "    <tr>\n",
              "      <th>12</th>\n",
              "      <td>13</td>\n",
              "      <td>2020-08-06</td>\n",
              "      <td>1635.00</td>\n",
              "      <td>1650.00</td>\n",
              "      <td>1615.00</td>\n",
              "      <td>1644.00</td>\n",
              "      <td>0.55</td>\n",
              "      <td>9,397</td>\n",
              "      <td>15,405,037</td>\n",
              "    </tr>\n",
              "    <tr>\n",
              "      <th>13</th>\n",
              "      <td>14</td>\n",
              "      <td>2020-08-05</td>\n",
              "      <td>1647.00</td>\n",
              "      <td>1653.00</td>\n",
              "      <td>1631.00</td>\n",
              "      <td>1635.00</td>\n",
              "      <td>-1.51</td>\n",
              "      <td>25,436</td>\n",
              "      <td>41,662,416</td>\n",
              "    </tr>\n",
              "    <tr>\n",
              "      <th>14</th>\n",
              "      <td>15</td>\n",
              "      <td>2020-08-03</td>\n",
              "      <td>1646.00</td>\n",
              "      <td>1675.00</td>\n",
              "      <td>1626.00</td>\n",
              "      <td>1660.00</td>\n",
              "      <td>0.85</td>\n",
              "      <td>12,970</td>\n",
              "      <td>21,487,090</td>\n",
              "    </tr>\n",
              "    <tr>\n",
              "      <th>15</th>\n",
              "      <td>16</td>\n",
              "      <td>2020-08-02</td>\n",
              "      <td>1681.00</td>\n",
              "      <td>1690.00</td>\n",
              "      <td>1640.00</td>\n",
              "      <td>1646.00</td>\n",
              "      <td>-3.18</td>\n",
              "      <td>44,311</td>\n",
              "      <td>73,512,256</td>\n",
              "    </tr>\n",
              "    <tr>\n",
              "      <th>16</th>\n",
              "      <td>17</td>\n",
              "      <td>2020-07-30</td>\n",
              "      <td>1695.00</td>\n",
              "      <td>1725.00</td>\n",
              "      <td>1666.00</td>\n",
              "      <td>1700.00</td>\n",
              "      <td>1.01</td>\n",
              "      <td>14,529</td>\n",
              "      <td>24,654,044</td>\n",
              "    </tr>\n",
              "    <tr>\n",
              "      <th>17</th>\n",
              "      <td>18</td>\n",
              "      <td>2020-07-29</td>\n",
              "      <td>1710.00</td>\n",
              "      <td>1710.00</td>\n",
              "      <td>1676.00</td>\n",
              "      <td>1683.00</td>\n",
              "      <td>-1.35</td>\n",
              "      <td>28,148</td>\n",
              "      <td>47,523,884</td>\n",
              "    </tr>\n",
              "    <tr>\n",
              "      <th>18</th>\n",
              "      <td>19</td>\n",
              "      <td>2020-07-28</td>\n",
              "      <td>1750.00</td>\n",
              "      <td>1755.00</td>\n",
              "      <td>1706.00</td>\n",
              "      <td>1706.00</td>\n",
              "      <td>-2.01</td>\n",
              "      <td>31,706</td>\n",
              "      <td>54,591,352</td>\n",
              "    </tr>\n",
              "    <tr>\n",
              "      <th>19</th>\n",
              "      <td>20</td>\n",
              "      <td>2020-07-27</td>\n",
              "      <td>1796.00</td>\n",
              "      <td>1797.00</td>\n",
              "      <td>1736.00</td>\n",
              "      <td>1741.00</td>\n",
              "      <td>-2.57</td>\n",
              "      <td>14,804</td>\n",
              "      <td>25,996,280</td>\n",
              "    </tr>\n",
              "    <tr>\n",
              "      <th>20</th>\n",
              "      <td>21</td>\n",
              "      <td>2020-07-26</td>\n",
              "      <td>1760.00</td>\n",
              "      <td>1795.00</td>\n",
              "      <td>1750.00</td>\n",
              "      <td>1787.00</td>\n",
              "      <td>1.94</td>\n",
              "      <td>36,203</td>\n",
              "      <td>64,430,388</td>\n",
              "    </tr>\n",
              "    <tr>\n",
              "      <th>21</th>\n",
              "      <td>22</td>\n",
              "      <td>2020-07-23</td>\n",
              "      <td>1739.00</td>\n",
              "      <td>1759.00</td>\n",
              "      <td>1723.00</td>\n",
              "      <td>1753.00</td>\n",
              "      <td>0.81</td>\n",
              "      <td>18,768</td>\n",
              "      <td>32,756,856</td>\n",
              "    </tr>\n",
              "    <tr>\n",
              "      <th>22</th>\n",
              "      <td>23</td>\n",
              "      <td>2020-07-22</td>\n",
              "      <td>1760.00</td>\n",
              "      <td>1810.00</td>\n",
              "      <td>1732.00</td>\n",
              "      <td>1739.00</td>\n",
              "      <td>-0.91</td>\n",
              "      <td>42,384</td>\n",
              "      <td>74,887,472</td>\n",
              "    </tr>\n",
              "    <tr>\n",
              "      <th>23</th>\n",
              "      <td>24</td>\n",
              "      <td>2020-07-21</td>\n",
              "      <td>1651.00</td>\n",
              "      <td>1776.00</td>\n",
              "      <td>1651.00</td>\n",
              "      <td>1755.00</td>\n",
              "      <td>5.09</td>\n",
              "      <td>82,166</td>\n",
              "      <td>142,484,304</td>\n",
              "    </tr>\n",
              "    <tr>\n",
              "      <th>24</th>\n",
              "      <td>25</td>\n",
              "      <td>2020-07-20</td>\n",
              "      <td>1814.00</td>\n",
              "      <td>1814.00</td>\n",
              "      <td>1637.00</td>\n",
              "      <td>1670.00</td>\n",
              "      <td>-6.13</td>\n",
              "      <td>47,723</td>\n",
              "      <td>80,895,000</td>\n",
              "    </tr>\n",
              "    <tr>\n",
              "      <th>25</th>\n",
              "      <td>26</td>\n",
              "      <td>2020-07-19</td>\n",
              "      <td>1650.00</td>\n",
              "      <td>1779.00</td>\n",
              "      <td>1650.00</td>\n",
              "      <td>1779.00</td>\n",
              "      <td>9.95</td>\n",
              "      <td>1,500</td>\n",
              "      <td>2,609,560</td>\n",
              "    </tr>\n",
              "    <tr>\n",
              "      <th>26</th>\n",
              "      <td>27</td>\n",
              "      <td>2020-07-16</td>\n",
              "      <td>1610.00</td>\n",
              "      <td>1620.00</td>\n",
              "      <td>1595.00</td>\n",
              "      <td>1618.00</td>\n",
              "      <td>1.19</td>\n",
              "      <td>10,906</td>\n",
              "      <td>17,499,476</td>\n",
              "    </tr>\n",
              "    <tr>\n",
              "      <th>27</th>\n",
              "      <td>28</td>\n",
              "      <td>2020-07-15</td>\n",
              "      <td>1600.00</td>\n",
              "      <td>1625.00</td>\n",
              "      <td>1593.00</td>\n",
              "      <td>1599.00</td>\n",
              "      <td>-0.44</td>\n",
              "      <td>26,963</td>\n",
              "      <td>43,331,376</td>\n",
              "    </tr>\n",
              "    <tr>\n",
              "      <th>28</th>\n",
              "      <td>29</td>\n",
              "      <td>2020-07-14</td>\n",
              "      <td>1669.00</td>\n",
              "      <td>1669.00</td>\n",
              "      <td>1601.00</td>\n",
              "      <td>1606.00</td>\n",
              "      <td>-1.89</td>\n",
              "      <td>22,438</td>\n",
              "      <td>36,582,616</td>\n",
              "    </tr>\n",
              "    <tr>\n",
              "      <th>29</th>\n",
              "      <td>30</td>\n",
              "      <td>2020-07-13</td>\n",
              "      <td>1580.00</td>\n",
              "      <td>1640.00</td>\n",
              "      <td>1572.00</td>\n",
              "      <td>1637.00</td>\n",
              "      <td>4.07</td>\n",
              "      <td>35,360</td>\n",
              "      <td>56,853,044</td>\n",
              "    </tr>\n",
              "  </tbody>\n",
              "</table>\n",
              "</div>"
            ],
            "text/plain": [
              "   S.No        Date     Open     High  ...      LTP % Change     Qty     Turnover\n",
              "0     1  2020-08-24  1704.00  1750.00  ...  1735.00     3.52  31,543   54,515,102\n",
              "1     2  2020-08-23  1670.00  1688.00  ...  1676.00     1.45   9,661   16,156,265\n",
              "2     3  2020-08-20  1637.00  1668.00  ...  1652.00     0.92   3,506    5,826,020\n",
              "3     4  2020-08-19  1636.00  1664.00  ...  1637.00    -1.80   7,274   11,970,520\n",
              "4     5  2020-08-18  1651.00  1679.00  ...  1667.00     0.42   4,675    7,774,480\n",
              "5     6  2020-08-17  1648.00  1665.00  ...  1660.00     1.22   9,537   15,729,698\n",
              "6     7  2020-08-16  1660.00  1665.00  ...  1640.00    -2.44  27,421   45,072,176\n",
              "7     8  2020-08-13  1697.00  1699.00  ...  1681.00    -1.52  14,990   25,270,870\n",
              "8     9  2020-08-12  1677.00  1708.00  ...  1707.00     0.41  14,839   25,215,104\n",
              "9    10  2020-08-11  1750.00  1750.00  ...  1700.00    -1.05  23,615   40,283,452\n",
              "10   11  2020-08-10  1690.00  1720.00  ...  1718.00     2.87  25,644   43,643,644\n",
              "11   12  2020-08-09  1635.00  1670.00  ...  1670.00     1.58  10,092   16,597,121\n",
              "12   13  2020-08-06  1635.00  1650.00  ...  1644.00     0.55   9,397   15,405,037\n",
              "13   14  2020-08-05  1647.00  1653.00  ...  1635.00    -1.51  25,436   41,662,416\n",
              "14   15  2020-08-03  1646.00  1675.00  ...  1660.00     0.85  12,970   21,487,090\n",
              "15   16  2020-08-02  1681.00  1690.00  ...  1646.00    -3.18  44,311   73,512,256\n",
              "16   17  2020-07-30  1695.00  1725.00  ...  1700.00     1.01  14,529   24,654,044\n",
              "17   18  2020-07-29  1710.00  1710.00  ...  1683.00    -1.35  28,148   47,523,884\n",
              "18   19  2020-07-28  1750.00  1755.00  ...  1706.00    -2.01  31,706   54,591,352\n",
              "19   20  2020-07-27  1796.00  1797.00  ...  1741.00    -2.57  14,804   25,996,280\n",
              "20   21  2020-07-26  1760.00  1795.00  ...  1787.00     1.94  36,203   64,430,388\n",
              "21   22  2020-07-23  1739.00  1759.00  ...  1753.00     0.81  18,768   32,756,856\n",
              "22   23  2020-07-22  1760.00  1810.00  ...  1739.00    -0.91  42,384   74,887,472\n",
              "23   24  2020-07-21  1651.00  1776.00  ...  1755.00     5.09  82,166  142,484,304\n",
              "24   25  2020-07-20  1814.00  1814.00  ...  1670.00    -6.13  47,723   80,895,000\n",
              "25   26  2020-07-19  1650.00  1779.00  ...  1779.00     9.95   1,500    2,609,560\n",
              "26   27  2020-07-16  1610.00  1620.00  ...  1618.00     1.19  10,906   17,499,476\n",
              "27   28  2020-07-15  1600.00  1625.00  ...  1599.00    -0.44  26,963   43,331,376\n",
              "28   29  2020-07-14  1669.00  1669.00  ...  1606.00    -1.89  22,438   36,582,616\n",
              "29   30  2020-07-13  1580.00  1640.00  ...  1637.00     4.07  35,360   56,853,044\n",
              "\n",
              "[30 rows x 9 columns]"
            ]
          },
          "metadata": {
            "tags": []
          },
          "execution_count": 6
        }
      ]
    },
    {
      "cell_type": "code",
      "metadata": {
        "id": "N3rmK52zDRPs",
        "colab_type": "code",
        "colab": {
          "base_uri": "https://localhost:8080/",
          "height": 662
        },
        "outputId": "cbc536af-a989-4c4f-b7ca-1014091eeb96"
      },
      "source": [
        "# l = driver.find_elements_by_xpath(\"//div[@id='companyprofilepricehistory_data']/ul[1]/li[13]/a[1]\")[0]\n",
        "# l.click()\n",
        "# time.sleep(5)\n",
        "# data = []\n",
        "for i in range(1,28):\n",
        "  if i <7:\n",
        "    \n",
        "    t = driver.find_elements_by_id(\"companyprofilepricehistory_data\")\n",
        "    text = t[0].text.split('\\n')\n",
        "\n",
        "    print(f\"Scraping Page {i}\")\n",
        "    \n",
        "    for j in range(1,31):\n",
        "      data.append(text[j].split(\" \"))\n",
        "\n",
        "    l = driver.find_elements_by_xpath(\"//div[@id='companyprofilepricehistory_data']/ul[1]/li[13]/a[1]\")[0]\n",
        "    l.click()\n",
        "    time.sleep(5)\n",
        "\n",
        "  elif i >=7:\n",
        "    \n",
        "    t = driver.find_elements_by_id(\"companyprofilepricehistory_data\")\n",
        "    text = t[0].text.split('\\n')\n",
        "\n",
        "    print(f\"Scraping Page {i}\")\n",
        "    for j in range(1,31):\n",
        "      data.append(text[j].split(\" \"))\n",
        "\n",
        "    l = driver.find_elements_by_xpath(\"//div[@id='companyprofilepricehistory_data']/ul[1]/li[15]/a[1]\")[0]\n",
        "    l.click()\n",
        "    time.sleep(5)\n",
        "\n",
        "\n",
        "# for i in range(2,28):\n",
        "#   # l = driver.find_elements_by_xpath(\"//div[@id='companyprofilepricehistory_data']/ul[1]/li[15]/a[1]\")[0]\n",
        "#   # l.click()\n",
        "#   # time.sleep(5)\n",
        "#   print(f\"Scraping Page {i}\")\n",
        "#   for j in range(1,31):\n",
        "#     data.append(text[j].split(\" \"))\n",
        "#     driver.find_elements_by_link_text(f\"{i+1}\")[0].click()\n",
        "#     time.sleep(4)\n",
        "#   print(f\"Scrapped page {i}\")"
      ],
      "execution_count": 7,
      "outputs": [
        {
          "output_type": "stream",
          "text": [
            "Scraping Page 1\n",
            "Scraping Page 2\n",
            "Scraping Page 3\n",
            "Scraping Page 4\n",
            "Scraping Page 5\n",
            "Scraping Page 6\n",
            "Scraping Page 7\n",
            "Scraping Page 8\n",
            "Scraping Page 9\n",
            "Scraping Page 10\n",
            "Scraping Page 11\n",
            "Scraping Page 12\n",
            "Scraping Page 13\n",
            "Scraping Page 14\n",
            "Scraping Page 15\n",
            "Scraping Page 16\n",
            "Scraping Page 17\n",
            "Scraping Page 18\n",
            "Scraping Page 19\n",
            "Scraping Page 20\n",
            "Scraping Page 21\n",
            "Scraping Page 22\n",
            "Scraping Page 23\n"
          ],
          "name": "stdout"
        },
        {
          "output_type": "error",
          "ename": "IndexError",
          "evalue": "ignored",
          "traceback": [
            "\u001b[0;31m---------------------------------------------------------------------------\u001b[0m",
            "\u001b[0;31mIndexError\u001b[0m                                Traceback (most recent call last)",
            "\u001b[0;32m<ipython-input-7-afc6bb8ed5f9>\u001b[0m in \u001b[0;36m<module>\u001b[0;34m()\u001b[0m\n\u001b[1;32m     27\u001b[0m       \u001b[0mdata\u001b[0m\u001b[0;34m.\u001b[0m\u001b[0mappend\u001b[0m\u001b[0;34m(\u001b[0m\u001b[0mtext\u001b[0m\u001b[0;34m[\u001b[0m\u001b[0mj\u001b[0m\u001b[0;34m]\u001b[0m\u001b[0;34m.\u001b[0m\u001b[0msplit\u001b[0m\u001b[0;34m(\u001b[0m\u001b[0;34m\" \"\u001b[0m\u001b[0;34m)\u001b[0m\u001b[0;34m)\u001b[0m\u001b[0;34m\u001b[0m\u001b[0;34m\u001b[0m\u001b[0m\n\u001b[1;32m     28\u001b[0m \u001b[0;34m\u001b[0m\u001b[0m\n\u001b[0;32m---> 29\u001b[0;31m     \u001b[0ml\u001b[0m \u001b[0;34m=\u001b[0m \u001b[0mdriver\u001b[0m\u001b[0;34m.\u001b[0m\u001b[0mfind_elements_by_xpath\u001b[0m\u001b[0;34m(\u001b[0m\u001b[0;34m\"//div[@id='companyprofilepricehistory_data']/ul[1]/li[15]/a[1]\"\u001b[0m\u001b[0;34m)\u001b[0m\u001b[0;34m[\u001b[0m\u001b[0;36m0\u001b[0m\u001b[0;34m]\u001b[0m\u001b[0;34m\u001b[0m\u001b[0;34m\u001b[0m\u001b[0m\n\u001b[0m\u001b[1;32m     30\u001b[0m     \u001b[0ml\u001b[0m\u001b[0;34m.\u001b[0m\u001b[0mclick\u001b[0m\u001b[0;34m(\u001b[0m\u001b[0;34m)\u001b[0m\u001b[0;34m\u001b[0m\u001b[0;34m\u001b[0m\u001b[0m\n\u001b[1;32m     31\u001b[0m     \u001b[0mtime\u001b[0m\u001b[0;34m.\u001b[0m\u001b[0msleep\u001b[0m\u001b[0;34m(\u001b[0m\u001b[0;36m5\u001b[0m\u001b[0;34m)\u001b[0m\u001b[0;34m\u001b[0m\u001b[0;34m\u001b[0m\u001b[0m\n",
            "\u001b[0;31mIndexError\u001b[0m: list index out of range"
          ]
        }
      ]
    },
    {
      "cell_type": "code",
      "metadata": {
        "id": "0S2olgQbW0OX",
        "colab_type": "code",
        "colab": {}
      },
      "source": [
        "len(data)\n",
        "driver.quit()"
      ],
      "execution_count": 39,
      "outputs": []
    },
    {
      "cell_type": "code",
      "metadata": {
        "id": "86r51BIzW3r8",
        "colab_type": "code",
        "colab": {
          "base_uri": "https://localhost:8080/",
          "height": 199
        },
        "outputId": "d951f6e2-b940-4474-bdd5-e7812f409327"
      },
      "source": [
        "import pandas as pd\n",
        "df = pd.DataFrame(data, columns = ['S.No', 'Date', 'Open', 'High', 'Low', 'LTP', '% Change', 'Qty', 'Turnover'])\n",
        "df.dtypes"
      ],
      "execution_count": 15,
      "outputs": [
        {
          "output_type": "execute_result",
          "data": {
            "text/plain": [
              "S.No        object\n",
              "Date        object\n",
              "Open        object\n",
              "High        object\n",
              "Low         object\n",
              "LTP         object\n",
              "% Change    object\n",
              "Qty         object\n",
              "Turnover    object\n",
              "dtype: object"
            ]
          },
          "metadata": {
            "tags": []
          },
          "execution_count": 15
        }
      ]
    },
    {
      "cell_type": "code",
      "metadata": {
        "id": "Y9HZmpUUcMwH",
        "colab_type": "code",
        "colab": {}
      },
      "source": [
        "q = lambda x: int(x.replace(\",\",\"\"))\n",
        "df['Qty'] = df.Qty.apply(q)\n",
        "df['Turnover'] = df.Turnover.apply(q)\n",
        "df[['Open','High','Low','LTP','% Change','Qty','Turnover']]= df[['Open','High','Low','LTP','% Change','Qty','Turnover']].apply(pd.to_numeric)\n",
        "df['Date'] = df['Date'].apply(pd.to_datetime)"
      ],
      "execution_count": 35,
      "outputs": []
    },
    {
      "cell_type": "code",
      "metadata": {
        "id": "yOiIAkkqecSS",
        "colab_type": "code",
        "colab": {}
      },
      "source": [
        "df.set_index(\"Date\", inplace = True)"
      ],
      "execution_count": 37,
      "outputs": []
    },
    {
      "cell_type": "code",
      "metadata": {
        "id": "88BctJeFdKuJ",
        "colab_type": "code",
        "colab": {
          "base_uri": "https://localhost:8080/",
          "height": 296
        },
        "outputId": "bbb13e09-d011-4628-8dd8-a08f1ef30c82"
      },
      "source": [
        "df.LTP.head(100).plot()"
      ],
      "execution_count": 45,
      "outputs": [
        {
          "output_type": "execute_result",
          "data": {
            "text/plain": [
              "<matplotlib.axes._subplots.AxesSubplot at 0x7f39ef45efd0>"
            ]
          },
          "metadata": {
            "tags": []
          },
          "execution_count": 45
        },
        {
          "output_type": "display_data",
          "data": {
            "image/png": "[encoded data removed]",
            "text/plain": [
              "<Figure size 432x288 with 1 Axes>"
            ]
          },
          "metadata": {
            "tags": [],
            "needs_background": "light"
          }
        }
      ]
    },
    {
      "cell_type": "code",
      "metadata": {
        "id": "GFfd1nzTdXZ8",
        "colab_type": "code",
        "colab": {
          "base_uri": "https://localhost:8080/",
          "height": 566
        },
        "outputId": "3e99afb9-17c5-4d04-eaa8-b02da5576216"
      },
      "source": [
        "df.sort_values(by=['Date'], inplace=True, ascending=True)\n",
        "df.LTP.tail(500).plot(figsize = (20,10))"
      ],
      "execution_count": 49,
      "outputs": [
        {
          "output_type": "execute_result",
          "data": {
            "text/plain": [
              "<matplotlib.axes._subplots.AxesSubplot at 0x7f39ee6a1278>"
            ]
          },
          "metadata": {
            "tags": []
          },
          "execution_count": 49
        },
        {
          "output_type": "display_data",
          "data": {
            "image/png": "[encoded data removed]",
            "text/plain": [
              "<Figure size 1440x720 with 1 Axes>"
            ]
          },
          "metadata": {
            "tags": [],
            "needs_background": "light"
          }
        }
      ]
    },
    {
      "cell_type": "code",
      "metadata": {
        "id": "mTFGcrAKfTR2",
        "colab_type": "code",
        "colab": {}
      },
      "source": [
        ""
      ],
      "execution_count": null,
      "outputs": []
    }
  ]
}