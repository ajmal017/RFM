{
  "nbformat": 4,
  "nbformat_minor": 0,
  "metadata": {
    "colab": {
      "name": "Welcome To Colaboratory",
      "provenance": [],
      "collapsed_sections": [],
      "include_colab_link": true
    },
    "kernelspec": {
      "display_name": "Python 3",
      "name": "python3"
    }
  },
  "cells": [
    {
      "cell_type": "markdown",
      "metadata": {
        "id": "view-in-github",
        "colab_type": "text"
      },
      "source": [
        "<a href=\"https://colab.research.google.com/github/satishchaudhary382/RFM/blob/master/calculating%20resistance.ipynb\" target=\"_parent\"><img src=\"https://colab.research.google.com/assets/colab-badge.svg\" alt=\"Open In Colab\"/></a>"
      ]
    },
    {
      "cell_type": "code",
      "metadata": {
        "id": "xdsuYi37dUpk"
      },
      "source": [
        "import yfinance as yf\n",
        "import datetime as dt\n",
        "import pandas as pd\n",
        "from pandas_datareader import data as pdr\n",
        "import matplotlib.pyplot as plt\n"
      ],
      "execution_count": 23,
      "outputs": []
    },
    {
      "cell_type": "code",
      "metadata": {
        "id": "kUIWygTsna6e"
      },
      "source": [
        "df = pd.read_csv(\"/content/shivm.csv\")\n",
        "df['Date'] = pd.to_datetime(df['Date'])\n",
        "df.set_index(['Date'], inplace = True)"
      ],
      "execution_count": 31,
      "outputs": []
    },
    {
      "cell_type": "code",
      "metadata": {
        "id": "NvP3hhXydUt0",
        "outputId": "b898b3b8-0aa3-487a-ba13-cba0576efec0",
        "colab": {
          "base_uri": "https://localhost:8080/",
          "height": 295
        }
      },
      "source": [
        "# start = dt.datetime(2020,1,1)\n",
        "# now = dt.datetime.now()\n",
        "# df = pdr.get_data_yahoo(\"SE\",start, now)\n",
        "\n",
        "df['High'].plot(label = \"High\")\n",
        "\n",
        "pivots = []\n",
        "dates =[]\n",
        "counter = 0\n",
        "lastPivot =0\n",
        "Range = [0,0,0,0,0,0,0,0,0,0,0]\n",
        "dateRange = [0,0,0,0,0,0,0,0,0,0,0]\n",
        "\n",
        "\n",
        "\n",
        "\n",
        "for i in df.index:\n",
        "  currentMax = max(Range, default = 0)\n",
        "  value = round(df['Close'][i],2)\n",
        "\n",
        "  Range = Range[1:9]\n",
        "  Range.append(value)\n",
        "\n",
        "  dateRange = dateRange[1:9]\n",
        "  dateRange.append(i)\n",
        "\n",
        "  if currentMax == max(Range, default = 0):\n",
        "    counter+=1\n",
        "  else:\n",
        "    counter=0\n",
        "  if counter == 5:\n",
        "    lastPivot = currentMax\n",
        "    dateloc = Range.index(lastPivot)\n",
        "    lastDate = dateRange[dateloc]\n",
        "    pivots.append(lastPivot)\n",
        "    dates.append(lastDate)\n",
        "\n",
        "\n",
        "  # print(str(pivots))\n",
        "  # print(str(dates))\n",
        "  timeD = dt.timedelta(days = 30)\n",
        "\n",
        "  \n",
        "  for index in range(len(pivots)):\n",
        "    # print(str(pivots[index])+ \": \"+str(dates[index]))\n",
        "    \n",
        "    plt.plot_date([dates[index],dates[index]+timeD],\n",
        "                  [pivots[index],pivots[index]], linestyle = '-', linewidth =2,\n",
        "                  marker = 'None')\n",
        "\n",
        "\n",
        "plt.figure(figsize = (20,10))\n",
        "plt.show()"
      ],
      "execution_count": 39,
      "outputs": [
        {
          "output_type": "display_data",
          "data": {
            "image/png": "[encoded data removed]",
            "text/plain": [
              "<Figure size 432x288 with 1 Axes>"
            ]
          },
          "metadata": {
            "tags": [],
            "needs_background": "light"
          }
        },
        {
          "output_type": "display_data",
          "data": {
            "text/plain": [
              "<Figure size 1440x720 with 0 Axes>"
            ]
          },
          "metadata": {
            "tags": []
          }
        }
      ]
    },
    {
      "cell_type": "code",
      "metadata": {
        "id": "YSAOcUTNtuJU"
      },
      "source": [
        ""
      ],
      "execution_count": null,
      "outputs": []
    }
  ]
}