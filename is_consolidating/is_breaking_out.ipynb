{
  "nbformat": 4,
  "nbformat_minor": 0,
  "metadata": {
    "colab": {
      "name": "Welcome To Colaboratory",
      "provenance": [],
      "collapsed_sections": [],
      "include_colab_link": true
    },
    "kernelspec": {
      "display_name": "Python 3",
      "name": "python3"
    }
  },
  "cells": [
    {
      "cell_type": "markdown",
      "metadata": {
        "id": "view-in-github",
        "colab_type": "text"
      },
      "source": [
        "<a href=\"https://colab.research.google.com/github/satishchaudhary382/RFM/blob/master/is_consolidating/is_breaking_out.ipynb\" target=\"_parent\"><img src=\"https://colab.research.google.com/assets/colab-badge.svg\" alt=\"Open In Colab\"/></a>"
      ]
    },
    {
      "cell_type": "code",
      "metadata": {
        "id": "CBJ6psKivXZw"
      },
      "source": [
        "def is_consolidating(df, percentage = 2.5):\n",
        "  recent_candlestick = df[-21:]\n",
        "  # print(recent_candlestick)\n",
        "\n",
        "  max_close = recent_candlestick['Close'].max()\n",
        "  min_close = recent_candlestick['Close'].min()\n",
        "\n",
        "  threshold = 1- (percentage/100)\n",
        "  if min_close > (max_close*threshold):\n",
        "    return True\n",
        "  return False\n",
        "  # print(f\"The max close is {max_close} and min close is {min_close}\")\n",
        "\n",
        "def is_breaking_out(df, percentage = 2.5):\n",
        "  last_close = df[-1:]['Close'].values[0]\n",
        "  \n",
        "  if is_consolidating(df[:-1], percentage = percentage):\n",
        "    recent_closes = df[-22:-1]\n",
        "    if last_close > recent_closes['Close'].max():\n",
        "      return True\n",
        "  return False"
      ],
      "execution_count": 1,
      "outputs": []
    },
    {
      "cell_type": "code",
      "metadata": {
        "id": "P4vPZ7nkvXUn",
        "outputId": "7f24e73f-d705-4031-e121-dd4d4a0d4ce3",
        "colab": {
          "base_uri": "https://localhost:8080/"
        }
      },
      "source": [
        "import pandas\n",
        "for filename in os.listdir('/content/candlestick-screener/datasets/daily'):\n",
        "  df = pandas.read_csv('/content/candlestick-screener/datasets/daily/{}'.format(filename))\n",
        "  # print(df)\n",
        "  if is_consolidating(df, 2.5):\n",
        "    print(f\"{filename} is consolidating\")\n",
        "  if is_breaking_out(df):\n",
        "    print(f\"{filename} is breaking out\")"
      ],
      "execution_count": 75,
      "outputs": [
        {
          "output_type": "stream",
          "text": [
            "TMUS.csv is breaking out\n",
            "CPB.csv is consolidating\n"
          ],
          "name": "stdout"
        }
      ]
    },
    {
      "cell_type": "code",
      "metadata": {
        "id": "0nYkex55vXY0"
      },
      "source": [
        "stocks = []\n",
        "for i in os.listdir('/content/candlestick-screener/datasets/daily'):\n",
        "  stocks.append(i.split(\".\")[0])\n",
        "stocks.remove('AGN')"
      ],
      "execution_count": 76,
      "outputs": []
    },
    {
      "cell_type": "code",
      "metadata": {
        "id": "X_2Qv7Bf5nPT"
      },
      "source": [
        "for s in stocks:\n",
        "  if s == \"AGN\":\n",
        "    print(True)"
      ],
      "execution_count": 77,
      "outputs": []
    },
    {
      "cell_type": "code",
      "metadata": {
        "id": "CgNG8XzKvXTi"
      },
      "source": [
        "import pandas_datareader as pdr\n",
        "for i in stocks:\n",
        "  df = pdr.get_data_yahoo(f\"{i}\", \"2019-01-01\", \"2020-10-28\")\n",
        "  df.to_csv(f\"/content/St/{i}.csv\")\n",
        "  print(f\"{i} downloaded\")"
      ],
      "execution_count": null,
      "outputs": []
    },
    {
      "cell_type": "code",
      "metadata": {
        "id": "EnrZON7vvXOF",
        "outputId": "bb65e82f-5e00-48c6-d4d3-b7a0c162527c",
        "colab": {
          "base_uri": "https://localhost:8080/"
        }
      },
      "source": [
        "import pandas\n",
        "for filename in os.listdir('/content/St'):\n",
        "  df = pandas.read_csv('/content/St/{}'.format(filename))\n",
        "  # print(df)\n",
        "  if is_consolidating(df, 4.5):\n",
        "    print(f\"{filename} is consolidating\")\n",
        "  if is_breaking_out(df):\n",
        "    print(f\"{filename} is breaking out\")"
      ],
      "execution_count": 83,
      "outputs": [
        {
          "output_type": "stream",
          "text": [
            "BAX.csv is consolidating\n",
            "WMT.csv is consolidating\n",
            "ABC.csv is consolidating\n"
          ],
          "name": "stdout"
        }
      ]
    },
    {
      "cell_type": "code",
      "metadata": {
        "id": "cn_O4je_5MW4"
      },
      "source": [
        ""
      ],
      "execution_count": null,
      "outputs": []
    }
  ]
}